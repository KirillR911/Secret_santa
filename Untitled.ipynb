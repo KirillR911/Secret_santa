{
 "cells": [
  {
   "cell_type": "code",
   "execution_count": 84,
   "metadata": {},
   "outputs": [],
   "source": [
    "import pymongo\n",
    "from pymongo import MongoClient\n",
    "\n",
    "def _get_null_user():\n",
    "    return {\n",
    "            'name' : 'Kirill Ryzhikov', \n",
    "            'vk_link' : 'vk.com/kirizhik',\n",
    "            'photo_link' : 'sum9....',\n",
    "            'wish_list' : 'Gift name, this, and this ',\n",
    "            'location' : {\n",
    "                'faculcy' : 'CMS', \n",
    "                'year' : 1, \n",
    "                'group' : 123, \n",
    "                'main_building' : '2-Gum'\n",
    "            },\n",
    "            'status' : 0 ,\n",
    "            'target' : None,\n",
    "            'santa' : None\n",
    "        }\n",
    "def create_data(name: str, photo_link: str, location: dict, wish_list: str, vk_link: str) -> dict:\n",
    "    \n",
    "    \"\"\"\n",
    "        gets name: string, vk_link: string, photo_link: string, location: dict\n",
    "        wish_list: string, status: int \n",
    "        example: \n",
    "        {\n",
    "            _id : 0,\n",
    "            name : 'Kirill Ryzhikov', \n",
    "            vk_link : 'vk.com/kirizhik',\n",
    "            photo_link : 'sum9....',\n",
    "            wish_list : 'Gift name, this, and this ',\n",
    "            location : {\n",
    "                faculcy : 'CMS', \n",
    "                year : 1, \n",
    "                group : 123, \n",
    "                main_building : '2-Gum'\n",
    "            }\n",
    "            status : 0,\n",
    "            target : id,\n",
    "            santa : id,\n",
    "            status codes: 0 -  Registered, not in Game \n",
    "                          1 - In game, has target\n",
    "                          2 - In game, has santa\n",
    "                          3 - In game, has santa and target\n",
    "                          4 - In game, delivered gift\n",
    "                          5 - In game, got gift\n",
    "                          6 - In game, got gift and delivered\n",
    "        }\n",
    "    \"\"\"\n",
    "    d = {}\n",
    "    d ['name'] = name \n",
    "    d ['vk_link']  = vk_link\n",
    "    d ['photo_link'] = photo_link\n",
    "    d ['location'] = location\n",
    "    d ['wish_list'] = wish_list\n",
    "    d ['status'] = 0\n",
    "    d ['santa'] = None \n",
    "    d ['target'] = None\n",
    "    return d\n",
    "\n",
    "def register(data, collection):\n",
    "    collection.insert_one(data)\n",
    "\n",
    "def _get_null_result():\n",
    "    return {\n",
    "            'santa' : None,\n",
    "            'target' : None,\n",
    "            'status' : 0,\n",
    "            'description' : {\n",
    "                    'gift_name' : None,\n",
    "                    'photo' : None\n",
    "            }\n",
    "    }\n",
    "    \n",
    "\n",
    "def init_db(client):\n",
    "    client.drop_database('sant_db')\n",
    "    db = client.sant_db\n",
    "    users_col = db.users\n",
    "    users_col.insert_one(_get_null_user())\n",
    "    db.users.create_index([('name', pymongo.ASCENDING)],\n",
    "                                   unique=True)\n",
    "    result_col = db.result\n",
    "    result_col.insert_one(_get_null_result())\n",
    "    result_col.create_index([('santa', pymongo.ASCENDING), ('target', pymongo.ASCENDING)],\n",
    "                                unique=True)\n",
    "    return db\n",
    "\n",
    "def set_santa(user1: str, user2: str, collection: pymongo.collection.Collection, result: pymongo.collection.Collection) :\n",
    "    \"\"\"\n",
    "        Updates db by setting santa for user2 and target for user1 and their statuses to 1 \n",
    "        user1 : string - name of target\n",
    "        user2 : string - name of santa\n",
    "        collection : pymongo.collection.Collection collection of users\n",
    "    \"\"\"\n",
    "    #print(collection.find_one())\n",
    "    id1 = collection.find_one({'name' : user1})['_id']\n",
    "    id2 = collection.find_one({'name' : user2})['_id']\n",
    "    collection.update_one({'_id' : id1}, {'$set' : {'santa' : id2}})\n",
    "    collection.update_one({'_id' : id2}, {'$set' : {'target' : id1}})\n",
    "    collection.update_one({'_id' : id1}, {'$set' : {'status' : 2 if collection.find_one({'name' : user1})['status'] == 0 else 3}})\n",
    "    collection.update_one({'_id' : id2}, {'$set' : {'status' : 1 if collection.find_one({'name' : user2})['status'] == 0 else 3}})\n",
    "    res = {\n",
    "        'santa':id2,\n",
    "        'target':id1,\n",
    "        'status' : 0,\n",
    "        'description' : {\n",
    "            'gift' : collection.find_one({'name' : user1})['wish_list'],\n",
    "            'photo' : None\n",
    "        }\n",
    "    }\n",
    "    result.insert_one(res)\n",
    "    return id1, id2 \n",
    "\n",
    "def remind_target(user: str, collection: pymongo.collection.Collection) -> dict:\n",
    "    \"\"\"\n",
    "        reminds target to user\n",
    "        user : string - name of to remind target\n",
    "        collection : pymongo.collection.Collection collection of users\n",
    "    \"\"\"\n",
    "    target_id = collection.find_one({'name' : user})['target']\n",
    "    d = collection.find_one({'_id' : target_id})\n",
    "    \n",
    "    del d['santa']\n",
    "    del d['target']\n",
    "    return d\n",
    "\n",
    "\n",
    "def random_target(user: str, collection: pymongo.collection.Collection, result):\n",
    "    id  = collection.find_one({'name' : user})['_id']\n",
    "    tar_id = collection.aggregate([{'$match': {'santa' : None, 'name' : {'$ne' : user}}},\\\n",
    "                                    {'$sample' : {'size' : 1}}])\n",
    "    l = [x for x in tar_id]\n",
    "    print(l)\n",
    "    if (len(l)):\n",
    "        set_santa(l[0]['name'], user, collection, result)\n",
    "        \n",
    "        return l[0]['name']\n",
    "    else:\n",
    "        return None\n",
    "\n"
   ]
  },
  {
   "cell_type": "code",
   "execution_count": 85,
   "metadata": {},
   "outputs": [],
   "source": [
    "client = MongoClient()"
   ]
  },
  {
   "cell_type": "code",
   "execution_count": 86,
   "metadata": {},
   "outputs": [],
   "source": [
    "db = init_db(client)"
   ]
  },
  {
   "cell_type": "code",
   "execution_count": 87,
   "metadata": {},
   "outputs": [
    {
     "data": {
      "text/plain": [
       "{'_id': ObjectId('5de2545f4179b43fc779e20e'),\n",
       " 'name': 'Kirill Ryzhikov',\n",
       " 'vk_link': 'vk.com/kirizhik',\n",
       " 'photo_link': 'sum9....',\n",
       " 'wish_list': 'Gift name, this, and this ',\n",
       " 'location': {'faculcy': 'CMS',\n",
       "  'year': 1,\n",
       "  'group': 123,\n",
       "  'main_building': '2-Gum'},\n",
       " 'status': 0,\n",
       " 'target': None,\n",
       " 'santa': None}"
      ]
     },
     "execution_count": 87,
     "metadata": {},
     "output_type": "execute_result"
    }
   ],
   "source": [
    "db.users.find_one()"
   ]
  },
  {
   "cell_type": "code",
   "execution_count": null,
   "metadata": {},
   "outputs": [],
   "source": []
  },
  {
   "cell_type": "code",
   "execution_count": 32,
   "metadata": {},
   "outputs": [
    {
     "data": {
      "text/plain": [
       "{'_id': ObjectId('5de24d524179b43fc779e208'),\n",
       " 'santa': None,\n",
       " 'target': None,\n",
       " 'status': 0,\n",
       " 'description': {'gift_name': None, 'photo': None}}"
      ]
     },
     "execution_count": 32,
     "metadata": {},
     "output_type": "execute_result"
    }
   ],
   "source": [
    "db.result.find_one()"
   ]
  },
  {
   "cell_type": "code",
   "execution_count": 89,
   "metadata": {},
   "outputs": [],
   "source": [
    "u = {\n",
    "            'name' : 'Kirill Ryzhikov1', \n",
    "            'vk_link' : 'vk.com/kirizhik',\n",
    "            'photo_link' : 'sum9....',\n",
    "            'wish_list' : 'Gift name, this, and this ',\n",
    "            'location' : {\n",
    "                'faculcy' : 'CMS', \n",
    "                'year' : 1, \n",
    "                'group' : 123, \n",
    "                'main_building' : '2-Gum'\n",
    "            },\n",
    "            'status' : 0 ,\n",
    "            'target' : None,\n",
    "            'santa' : None\n",
    "        }\n",
    "\n"
   ]
  },
  {
   "cell_type": "code",
   "execution_count": 90,
   "metadata": {},
   "outputs": [],
   "source": [
    "register(u, db.users)"
   ]
  },
  {
   "cell_type": "code",
   "execution_count": 93,
   "metadata": {},
   "outputs": [
    {
     "data": {
      "text/plain": [
       "[{'_id': ObjectId('5de2545f4179b43fc779e20e'),\n",
       "  'name': 'Kirill Ryzhikov',\n",
       "  'vk_link': 'vk.com/kirizhik',\n",
       "  'photo_link': 'sum9....',\n",
       "  'wish_list': 'Gift name, this, and this ',\n",
       "  'location': {'faculcy': 'CMS',\n",
       "   'year': 1,\n",
       "   'group': 123,\n",
       "   'main_building': '2-Gum'},\n",
       "  'status': 1,\n",
       "  'target': ObjectId('5de2546e4179b43fc779e210'),\n",
       "  'santa': None},\n",
       " {'_id': ObjectId('5de2546e4179b43fc779e210'),\n",
       "  'name': 'Kirill Ryzhikov1',\n",
       "  'vk_link': 'vk.com/kirizhik',\n",
       "  'photo_link': 'sum9....',\n",
       "  'wish_list': 'Gift name, this, and this ',\n",
       "  'location': {'faculcy': 'CMS',\n",
       "   'year': 1,\n",
       "   'group': 123,\n",
       "   'main_building': '2-Gum'},\n",
       "  'status': 2,\n",
       "  'target': None,\n",
       "  'santa': ObjectId('5de2545f4179b43fc779e20e')}]"
      ]
     },
     "execution_count": 93,
     "metadata": {},
     "output_type": "execute_result"
    }
   ],
   "source": [
    "[x for x in db.users.find()]"
   ]
  },
  {
   "cell_type": "code",
   "execution_count": 92,
   "metadata": {},
   "outputs": [
    {
     "name": "stdout",
     "output_type": "stream",
     "text": [
      "[{'_id': ObjectId('5de2546e4179b43fc779e210'), 'name': 'Kirill Ryzhikov1', 'vk_link': 'vk.com/kirizhik', 'photo_link': 'sum9....', 'wish_list': 'Gift name, this, and this ', 'location': {'faculcy': 'CMS', 'year': 1, 'group': 123, 'main_building': '2-Gum'}, 'status': 0, 'target': None, 'santa': None}]\n"
     ]
    },
    {
     "data": {
      "text/plain": [
       "'Kirill Ryzhikov1'"
      ]
     },
     "execution_count": 92,
     "metadata": {},
     "output_type": "execute_result"
    }
   ],
   "source": [
    "random_target('Kirill Ryzhikov', db.users, db.result)"
   ]
  },
  {
   "cell_type": "code",
   "execution_count": null,
   "metadata": {},
   "outputs": [],
   "source": [
    "\n"
   ]
  },
  {
   "cell_type": "code",
   "execution_count": null,
   "metadata": {},
   "outputs": [],
   "source": []
  },
  {
   "cell_type": "code",
   "execution_count": 72,
   "metadata": {},
   "outputs": [
    {
     "data": {
      "text/plain": [
       "{'nIndexesWas': 2, 'ns': 'sant_db.result', 'ok': 1.0}"
      ]
     },
     "execution_count": 72,
     "metadata": {},
     "output_type": "execute_result"
    }
   ],
   "source": [
    "db.drop_collection('result')"
   ]
  },
  {
   "cell_type": "code",
   "execution_count": null,
   "metadata": {},
   "outputs": [],
   "source": []
  }
 ],
 "metadata": {
  "kernelspec": {
   "display_name": "Python 3",
   "language": "python",
   "name": "python3"
  },
  "language_info": {
   "codemirror_mode": {
    "name": "ipython",
    "version": 3
   },
   "file_extension": ".py",
   "mimetype": "text/x-python",
   "name": "python",
   "nbconvert_exporter": "python",
   "pygments_lexer": "ipython3",
   "version": "3.7.3"
  }
 },
 "nbformat": 4,
 "nbformat_minor": 2
}
